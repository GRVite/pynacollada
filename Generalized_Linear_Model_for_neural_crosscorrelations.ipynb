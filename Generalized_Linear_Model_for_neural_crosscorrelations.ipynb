{
  "nbformat": 4,
  "nbformat_minor": 0,
  "metadata": {
    "colab": {
      "name": "Generalized Linear Model for neural crosscorrelations",
      "provenance": [],
      "collapsed_sections": [],
      "authorship_tag": "ABX9TyPXrFKOidgbRj9lM61sJadM",
      "include_colab_link": true
    },
    "kernelspec": {
      "name": "python3",
      "display_name": "Python 3"
    },
    "language_info": {
      "name": "python"
    }
  },
  "cells": [
    {
      "cell_type": "markdown",
      "metadata": {
        "id": "view-in-github",
        "colab_type": "text"
      },
      "source": [
        "<a href=\"https://colab.research.google.com/github/GRVite/pynacollada/blob/main/Generalized_Linear_Model_for_neural_crosscorrelations.ipynb\" target=\"_parent\"><img src=\"https://colab.research.google.com/assets/colab-badge.svg\" alt=\"Open In Colab\"/></a>"
      ]
    },
    {
      "cell_type": "code",
      "source": [
        "#@title Pynacollada Tutorial Series\n",
        "#@markdown Generalized Linear Model for neural crosscorrelations"
      ],
      "metadata": {
        "id": "QgL_5LIyDuVj",
        "cellView": "form"
      },
      "execution_count": 1,
      "outputs": []
    },
    {
      "cell_type": "code",
      "source": [
        "#@markdown Objective: Compute crosscorrelations between a couple of neurons using a Generalized Linear Model (GLM).\n",
        "#@markdown <br> - Crosscorrelations of the spike trains help you to figure it out if neurons fire together or not. \n",
        "#@markdown However, among a population of neurons, it is hard to distinguish if a couple of neurons in that population are coordinated between themselves or are actually coupled to the overral activity of the population.\n",
        "#@markdown <br> To overcome this issue, crosscorrelations based on GLM are very useful to disambiguate the coupling of a given neuron\n",
        "#@markdown with respect another neuron and the population. All you need is:\n",
        "\n",
        "#@markdown - the spike trains of your reference neuron, neuron A (Y),\n",
        "#@markdown - the spike trains of neuron B (X1) \n",
        "#@markdown - and the spike trains of the population to which neuron A belongs (X2)\n",
        "\n",
        "#@markdown <br> The result that you get from this script are values (betas) \n",
        "#@markdown that indicate degree of correlation between neuron B and cell A (betas_cellB in this notebook), and between\n",
        "#@markdown the population and cell A (betas_pop)."
      ],
      "metadata": {
        "id": "0zkii5mnOQHF",
        "colab": {
          "base_uri": "https://localhost:8080/",
          "height": 130
        },
        "outputId": "e1f877df-282a-4ab9-d3f3-aecbeba1bcd7"
      },
      "execution_count": 17,
      "outputs": [
        {
          "output_type": "error",
          "ename": "SyntaxError",
          "evalue": "ignored",
          "traceback": [
            "\u001b[0;36m  File \u001b[0;32m\"<ipython-input-17-4c30518ff9e3>\"\u001b[0;36m, line \u001b[0;32m15\u001b[0m\n\u001b[0;31m    $F(k) = \\int_{-\\infty}^{\\infty} f(x) e^{2\\pi i k} dx$\u001b[0m\n\u001b[0m    ^\u001b[0m\n\u001b[0;31mSyntaxError\u001b[0m\u001b[0;31m:\u001b[0m invalid syntax\n"
          ]
        }
      ]
    },
    {
      "cell_type": "code",
      "execution_count": 2,
      "metadata": {
        "colab": {
          "base_uri": "https://localhost:8080/"
        },
        "id": "Nnd-ohCHsSRa",
        "outputId": "552e7f75-1571-4b05-a672-83344e2c05cb"
      },
      "outputs": [
        {
          "output_type": "stream",
          "name": "stdout",
          "text": [
            "Looking in indexes: https://pypi.org/simple, https://us-python.pkg.dev/colab-wheels/public/simple/\n",
            "Collecting pynapple\n",
            "  Downloading pynapple-0.2.4-py2.py3-none-any.whl (86 kB)\n",
            "\u001b[K     |████████████████████████████████| 86 kB 4.1 MB/s \n",
            "\u001b[?25hRequirement already satisfied: numba in /usr/local/lib/python3.7/dist-packages (from pynapple) (0.51.2)\n",
            "Collecting pyqtgraph\n",
            "  Downloading pyqtgraph-0.12.4-py3-none-any.whl (995 kB)\n",
            "\u001b[K     |████████████████████████████████| 995 kB 32.5 MB/s \n",
            "\u001b[?25hRequirement already satisfied: pandas in /usr/local/lib/python3.7/dist-packages (from pynapple) (1.3.5)\n",
            "Requirement already satisfied: scipy in /usr/local/lib/python3.7/dist-packages (from pynapple) (1.4.1)\n",
            "Collecting pynwb\n",
            "  Downloading pynwb-2.0.1-py2.py3-none-any.whl (115 kB)\n",
            "\u001b[K     |████████████████████████████████| 115 kB 44.1 MB/s \n",
            "\u001b[?25hCollecting pyqt5\n",
            "  Downloading PyQt5-5.15.6-cp36-abi3-manylinux1_x86_64.whl (8.3 MB)\n",
            "\u001b[K     |████████████████████████████████| 8.3 MB 31.6 MB/s \n",
            "\u001b[?25hRequirement already satisfied: tabulate in /usr/local/lib/python3.7/dist-packages (from pynapple) (0.8.9)\n",
            "Requirement already satisfied: numpy in /usr/local/lib/python3.7/dist-packages (from pynapple) (1.21.6)\n",
            "Requirement already satisfied: h5py in /usr/local/lib/python3.7/dist-packages (from pynapple) (3.1.0)\n",
            "Requirement already satisfied: cached-property in /usr/local/lib/python3.7/dist-packages (from h5py->pynapple) (1.5.2)\n",
            "Requirement already satisfied: llvmlite<0.35,>=0.34.0.dev0 in /usr/local/lib/python3.7/dist-packages (from numba->pynapple) (0.34.0)\n",
            "Requirement already satisfied: setuptools in /usr/local/lib/python3.7/dist-packages (from numba->pynapple) (57.4.0)\n",
            "Requirement already satisfied: python-dateutil>=2.7.3 in /usr/local/lib/python3.7/dist-packages (from pandas->pynapple) (2.8.2)\n",
            "Requirement already satisfied: pytz>=2017.3 in /usr/local/lib/python3.7/dist-packages (from pandas->pynapple) (2022.1)\n",
            "Requirement already satisfied: six>=1.5 in /usr/local/lib/python3.7/dist-packages (from python-dateutil>=2.7.3->pandas->pynapple) (1.15.0)\n",
            "Collecting hdmf<4,>=3.1.1\n",
            "  Downloading hdmf-3.3.1-py3-none-any.whl (185 kB)\n",
            "\u001b[K     |████████████████████████████████| 185 kB 44.8 MB/s \n",
            "\u001b[?25hCollecting ruamel.yaml<1,>=0.16\n",
            "  Downloading ruamel.yaml-0.17.21-py3-none-any.whl (109 kB)\n",
            "\u001b[K     |████████████████████████████████| 109 kB 45.3 MB/s \n",
            "\u001b[?25hRequirement already satisfied: jsonschema<5,>=2.6.0 in /usr/local/lib/python3.7/dist-packages (from hdmf<4,>=3.1.1->pynwb->pynapple) (4.3.3)\n",
            "Requirement already satisfied: attrs>=17.4.0 in /usr/local/lib/python3.7/dist-packages (from jsonschema<5,>=2.6.0->hdmf<4,>=3.1.1->pynwb->pynapple) (21.4.0)\n",
            "Requirement already satisfied: pyrsistent!=0.17.0,!=0.17.1,!=0.17.2,>=0.14.0 in /usr/local/lib/python3.7/dist-packages (from jsonschema<5,>=2.6.0->hdmf<4,>=3.1.1->pynwb->pynapple) (0.18.1)\n",
            "Requirement already satisfied: importlib-metadata in /usr/local/lib/python3.7/dist-packages (from jsonschema<5,>=2.6.0->hdmf<4,>=3.1.1->pynwb->pynapple) (4.11.3)\n",
            "Requirement already satisfied: importlib-resources>=1.4.0 in /usr/local/lib/python3.7/dist-packages (from jsonschema<5,>=2.6.0->hdmf<4,>=3.1.1->pynwb->pynapple) (5.7.1)\n",
            "Requirement already satisfied: typing-extensions in /usr/local/lib/python3.7/dist-packages (from jsonschema<5,>=2.6.0->hdmf<4,>=3.1.1->pynwb->pynapple) (4.2.0)\n",
            "Requirement already satisfied: zipp>=3.1.0 in /usr/local/lib/python3.7/dist-packages (from importlib-resources>=1.4.0->jsonschema<5,>=2.6.0->hdmf<4,>=3.1.1->pynwb->pynapple) (3.8.0)\n",
            "Collecting ruamel.yaml.clib>=0.2.6\n",
            "  Downloading ruamel.yaml.clib-0.2.6-cp37-cp37m-manylinux1_x86_64.whl (546 kB)\n",
            "\u001b[K     |████████████████████████████████| 546 kB 40.0 MB/s \n",
            "\u001b[?25hCollecting PyQt5-sip<13,>=12.8\n",
            "  Downloading PyQt5_sip-12.10.1-cp37-cp37m-manylinux1_x86_64.whl (338 kB)\n",
            "\u001b[K     |████████████████████████████████| 338 kB 46.8 MB/s \n",
            "\u001b[?25hCollecting PyQt5-Qt5>=5.15.2\n",
            "  Downloading PyQt5_Qt5-5.15.2-py3-none-manylinux2014_x86_64.whl (59.9 MB)\n",
            "\u001b[K     |████████████████████████████████| 59.9 MB 90 kB/s \n",
            "\u001b[?25hInstalling collected packages: ruamel.yaml.clib, ruamel.yaml, PyQt5-sip, PyQt5-Qt5, hdmf, pyqtgraph, pyqt5, pynwb, pynapple\n",
            "Successfully installed PyQt5-Qt5-5.15.2 PyQt5-sip-12.10.1 hdmf-3.3.1 pynapple-0.2.4 pynwb-2.0.1 pyqt5-5.15.6 pyqtgraph-0.12.4 ruamel.yaml-0.17.21 ruamel.yaml.clib-0.2.6\n"
          ]
        }
      ],
      "source": [
        "# Pynapple needs to be instaled manually when you use Google Collab\n",
        "!pip install pynapple"
      ]
    },
    {
      "cell_type": "code",
      "source": [
        "import pynapple as nap\n",
        "import matplotlib.pyplot as plt\n",
        "from math import ceil\n",
        "import numpy as np \n",
        "import pandas as pd\n",
        "import statsmodels.api as sm"
      ],
      "metadata": {
        "id": "GzYZr_Hmvqdl",
        "colab": {
          "base_uri": "https://localhost:8080/"
        },
        "outputId": "911bab7e-4e52-4c87-9602-55bd77ae9a36"
      },
      "execution_count": 3,
      "outputs": [
        {
          "output_type": "stream",
          "name": "stderr",
          "text": [
            "/usr/local/lib/python3.7/dist-packages/statsmodels/tools/_testing.py:19: FutureWarning: pandas.util.testing is deprecated. Use the functions in the public API at pandas.testing instead.\n",
            "  import pandas.util.testing as tm\n"
          ]
        }
      ]
    },
    {
      "cell_type": "code",
      "source": [
        "#@title Setting up\n",
        "from google.colab import drive\n",
        "drive.mount('/content/drive')\n",
        "dir = '/content/drive/MyDrive/Pynacollada'\n",
        "session = '/B0702-211111'\n",
        "data_directory = dir + session \n",
        "print(\"loading data from \" + data_directory)"
      ],
      "metadata": {
        "id": "3EBdNgft0V69",
        "cellView": "form",
        "colab": {
          "base_uri": "https://localhost:8080/"
        },
        "outputId": "4e117209-1fe7-4dbb-fa09-44ecb82330f7"
      },
      "execution_count": 4,
      "outputs": [
        {
          "output_type": "stream",
          "name": "stdout",
          "text": [
            "Mounted at /content/drive\n",
            "loading data from /content/drive/MyDrive/Pynacollada/B0702-211111\n"
          ]
        }
      ]
    },
    {
      "cell_type": "code",
      "source": [
        "#First, let's load the data\n",
        "data = nap.load_session(data_directory, 'neurosuite')\n",
        "spikes = data.spikes\n",
        "epochs = data.epochs"
      ],
      "metadata": {
        "id": "itk2H7e-1PBU",
        "colab": {
          "base_uri": "https://localhost:8080/"
        },
        "outputId": "b1f073c6-b3b8-4966-c1b7-b79327559765"
      },
      "execution_count": 5,
      "outputs": [
        {
          "output_type": "stream",
          "name": "stderr",
          "text": [
            "/usr/local/lib/python3.7/dist-packages/hdmf/utils.py:577: FutureWarning: DynamicTable.__init__: Using positional arguments for this method is discouraged and will be deprecated in a future major release. Please use keyword arguments to ensure future compatibility.\n",
            "  warnings.warn(msg, FutureWarning)\n",
            "/usr/local/lib/python3.7/dist-packages/hdmf/utils.py:577: FutureWarning: DynamicTable.__init__: Using positional arguments for this method is discouraged and will be deprecated in a future major release. Please use keyword arguments to ensure future compatibility.\n",
            "  warnings.warn(msg, FutureWarning)\n"
          ]
        }
      ]
    },
    {
      "cell_type": "code",
      "source": [
        "# The first thing you need to do is to bin your spikes\n",
        "binsize = 0.04 # s |If the animal is awake a binsize of 40ms -300ms can work, you need to play with this\n",
        "# Use the pynapple built-in function to count the numbers of spikes per bin\n",
        "rate = spikes.count(binsize, ep = epochs['wake'].iloc[[0]])"
      ],
      "metadata": {
        "id": "xB4YkvwZAMJo"
      },
      "execution_count": 6,
      "outputs": []
    },
    {
      "cell_type": "code",
      "source": [
        "# Parameters for running the GLM\n",
        "sigma = 1 # s | for the smoothing window\n",
        "lag = 10 # s | extend of the crosscorrelogram \n",
        "binsize_wake = tau = 0.04 # s | for binning your spikes  and for the sliding window\n",
        "# create the time lag extent based on the binsize defined (e.g. -10s to +10s)\n",
        "time_lag = np.arange(-lag, lag+tau, tau) \n",
        "# transform it to the number of bins that you are actually going to extract\n",
        "shift = time_lag//binsize_wake \n",
        "shift = shift.astype('int')\n"
      ],
      "metadata": {
        "id": "JMr33qd0_9sV"
      },
      "execution_count": 7,
      "outputs": []
    },
    {
      "cell_type": "code",
      "source": [
        "# Run the glm for a couple of neurons and plot the results\n",
        "p = (2,10) # the first neuron is the one you want to model\n",
        "# This is a recording in the medial entorhinal cortex so the population is equal to all the neurons\n",
        "population_indexes = [*spikes]\n",
        "# Select the data corresponding to the population of cell A\n",
        "y = pd.DataFrame(index=rate.index, data=rate[p[0]].values).rolling(\n",
        "    window=int(sigma/binsize), win_type='gaussian', \n",
        "    center= True, min_periods=1).mean(std = 3).values.ravel()\n",
        "cells2drop = [p[0]] \n",
        "population_indexes.remove(p[0]) #drop the cell that will be modelled\n",
        "pop = rate.drop(labels=[p[0]], axis=1)[population_indexes]\n"
      ],
      "metadata": {
        "id": "lmg52o8lYSWh"
      },
      "execution_count": 8,
      "outputs": []
    },
    {
      "cell_type": "code",
      "source": [
        "# create population vector by summing all the counts\n",
        "x1 = pop.sum(axis=1).rolling(window=int(sigma//binsize), \n",
        "                              win_type='gaussian', center= True, \n",
        "                              min_periods=1).mean(std = 1)\n",
        "# select data of cell B and smooth it\n",
        "x2 = pd.DataFrame(index = rate.index, data = rate[p[1]].values).rolling(\n",
        "    window=int(sigma//binsize), win_type='gaussian', \n",
        "    center= True, min_periods=1).mean(std = 1)\n",
        "# let's put the data from the population and from cell B together\n",
        "x = pd.concat([x1,x2], axis = 1)\n",
        "# and normalize it \n",
        "x = (x - x.mean())/x.std() \n"
      ],
      "metadata": {
        "id": "W70P2ANs_0YH"
      },
      "execution_count": 9,
      "outputs": []
    },
    {
      "cell_type": "code",
      "source": [
        " # now we'll create a list for the betas corresponding to cell B\n",
        "betas_cellB = []\n",
        "# and a list for the betas of the population\n",
        "betas_pop = [] \n",
        "# in the next loop we take cell A as a target and we will shift the spike counts\n",
        "for s in shift:\n",
        "    if s < 0 : \n",
        "        Y = y[-s:] \n",
        "        X = x.iloc[:s]\n",
        "    elif s > 0 : \n",
        "        Y = y[:-s]\n",
        "        X= x.iloc[s:]\n",
        "    else:\n",
        "        X = x\n",
        "        Y = y\n",
        "    model= sm.GLM(Y, X.values, family=sm.families.Poisson())\n",
        "    r = model.fit(link=sm.genmod.families.links.Log)\n",
        "    betas_cellB.append(r.params[1])\n",
        "    betas_pop.append(r.params[0])"
      ],
      "metadata": {
        "id": "hdclCimI_9We"
      },
      "execution_count": 12,
      "outputs": []
    },
    {
      "cell_type": "code",
      "source": [
        "plt.figure()\n",
        "plt.plot(time_lag, betas_cellB)\n",
        "plt.plot(time_lag, betas_pop)\n",
        "plt.axvline(0)\n",
        "plt.xlabel(\"time\")\n",
        "plt.title('pair ' + str(p))\n",
        "plt.legend([\"\\u03B2\", \"\\u03B2-Pop\"])\n",
        "plt.show()"
      ],
      "metadata": {
        "colab": {
          "base_uri": "https://localhost:8080/",
          "height": 295
        },
        "id": "AzWZo6yoR36T",
        "outputId": "ffe7134f-62c0-4737-a771-5c80253660f7"
      },
      "execution_count": 14,
      "outputs": [
        {
          "output_type": "display_data",
          "data": {
            "text/plain": [
              "<Figure size 432x288 with 1 Axes>"
            ],
            "image/png": "[encoded data removed]"
          },
          "metadata": {
            "needs_background": "light"
          }
        }
      ]
    }
  ]
}