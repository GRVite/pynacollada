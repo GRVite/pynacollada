{
 "cells": [
  {
   "cell_type": "code",
   "execution_count": 1,
   "id": "f5150423",
   "metadata": {},
   "outputs": [],
   "source": [
    "import pynapple as nap\n",
    "import pandas as pd\n",
    "import seaborn as sns; sns.set_theme()\n",
    "import matplotlib.pyplot as plt\n",
    "\n",
    "from neuralensemble import assemblyPCA"
   ]
  },
  {
   "cell_type": "code",
   "execution_count": 2,
   "id": "933c8332",
   "metadata": {},
   "outputs": [
    {
     "ename": "NameError",
     "evalue": "name 'np' is not defined",
     "output_type": "error",
     "traceback": [
      "\u001b[1;31m---------------------------------------------------------------------------\u001b[0m",
      "\u001b[1;31mNameError\u001b[0m                                 Traceback (most recent call last)",
      "\u001b[1;32m~\\AppData\\Local\\Temp/ipykernel_31700/3216697571.py\u001b[0m in \u001b[0;36m<module>\u001b[1;34m\u001b[0m\n\u001b[0;32m     11\u001b[0m \u001b[1;33m\u001b[0m\u001b[0m\n\u001b[0;32m     12\u001b[0m \u001b[1;32mfor\u001b[0m \u001b[0ms\u001b[0m \u001b[1;32min\u001b[0m \u001b[0mrange\u001b[0m\u001b[1;33m(\u001b[0m\u001b[1;36m50\u001b[0m\u001b[1;33m)\u001b[0m\u001b[1;33m:\u001b[0m\u001b[1;33m\u001b[0m\u001b[1;33m\u001b[0m\u001b[0m\n\u001b[1;32m---> 13\u001b[1;33m     \u001b[0mrandom_rate\u001b[0m \u001b[1;33m=\u001b[0m \u001b[1;36m10\u001b[0m \u001b[1;33m*\u001b[0m \u001b[0mnp\u001b[0m\u001b[1;33m.\u001b[0m\u001b[0mrandom\u001b[0m\u001b[1;33m.\u001b[0m\u001b[0mrand\u001b[0m\u001b[1;33m(\u001b[0m\u001b[1;36m1\u001b[0m\u001b[1;33m)\u001b[0m\u001b[1;33m\u001b[0m\u001b[1;33m\u001b[0m\u001b[0m\n\u001b[0m\u001b[0;32m     14\u001b[0m     \u001b[0mrandom_times\u001b[0m \u001b[1;33m=\u001b[0m \u001b[0mnp\u001b[0m\u001b[1;33m.\u001b[0m\u001b[0mrandom\u001b[0m\u001b[1;33m.\u001b[0m\u001b[0muniform\u001b[0m\u001b[1;33m(\u001b[0m\u001b[1;36m0\u001b[0m\u001b[1;33m,\u001b[0m \u001b[0mrecDuration\u001b[0m\u001b[1;33m,\u001b[0m \u001b[0mint\u001b[0m\u001b[1;33m(\u001b[0m\u001b[0mnp\u001b[0m\u001b[1;33m.\u001b[0m\u001b[0mrint\u001b[0m\u001b[1;33m(\u001b[0m\u001b[0mrecDuration\u001b[0m \u001b[1;33m*\u001b[0m \u001b[0mrandom_rate\u001b[0m\u001b[1;33m)\u001b[0m\u001b[1;33m)\u001b[0m\u001b[1;33m)\u001b[0m\u001b[1;33m\u001b[0m\u001b[1;33m\u001b[0m\u001b[0m\n\u001b[0;32m     15\u001b[0m     \u001b[0mrandom_times\u001b[0m \u001b[1;33m=\u001b[0m \u001b[0mnp\u001b[0m\u001b[1;33m.\u001b[0m\u001b[0msort\u001b[0m\u001b[1;33m(\u001b[0m\u001b[0mrandom_times\u001b[0m\u001b[1;33m)\u001b[0m\u001b[1;33m\u001b[0m\u001b[1;33m\u001b[0m\u001b[0m\n",
      "\u001b[1;31mNameError\u001b[0m: name 'np' is not defined"
     ]
    }
   ],
   "source": [
    "recDuration = 2000.; #recording duration in secs\n",
    "sessionEpoch = nap.IntervalSet(start = 0, end = recDuration, time_units = 's')\n",
    "wakeEpoch = nap.IntervalSet(start = 0, end = 999, time_units = 's')\n",
    "sleepEp = nap.IntervalSet(start = 1000, end = recDuration, time_units = 's')\n",
    "\n",
    "# Let's imagine we have done some sleep scoring identifying NREM sleep episodes\n",
    "nremEp = nap.IntervalSet(start = [1100, 1500], end = [1200, 1700], time_units = 's')\n",
    "\n",
    "# We just create fake spike trains\n",
    "spikes =  {}\n",
    "\n",
    "for s in range(50):\n",
    "    random_rate = 10 * np.random.rand(1)\n",
    "    random_times = np.random.uniform(0, recDuration, int(np.rint(recDuration * random_rate)))\n",
    "    random_times = np.sort(random_times)\n",
    "    my_spike = nap.Ts(random_times, time_units = 's')\n",
    "    spikes[s] = my_spike\n",
    "    \n",
    "# Define pynapple's TsGroup (perfectly suited for spike trains)    \n",
    "spikeGrp = nap.TsGroup(data = spikes, time_support = sessionEpoch)\n",
    "\n",
    "# Bin the spike trains (in 100ms bins)\n",
    "binnedSpk = spikeGrp.count(0.1)\n",
    "\n",
    "# Define two intervalsets and append them in a list\n",
    "# This is totally random, just an example of how thiscan be used\n",
    "epochTest = [];\n",
    "epochTest.append(nap.IntervalSet(start = [1100,1300], end = [1200,1350], time_units = 's'))\n",
    "epochTest.append(sleepEp.intersect(nremEp))"
   ]
  },
  {
   "cell_type": "code",
   "execution_count": null,
   "id": "1e321c7a",
   "metadata": {},
   "outputs": [],
   "source": [
    "# Call the neuralensemble module to compute PCA-based assembly activation\n",
    "reactPCA, comp = assemblyPCA(binnedSpk, wakeEpoch, epochTest = epochTest, method = None, numComp = 3)\n",
    "\n",
    "# and plot the result\n",
    "fig, axes = plt.subplots(2, 1, figsize=(10, 10))\n",
    "sns.lineplot(ax = axes[0], data=reactPCA[0].as_units('s'))\n",
    "sns.lineplot(ax = axes[1], data=reactPCA[1].as_units('s'))"
   ]
  },
  {
   "cell_type": "code",
   "execution_count": null,
   "id": "a3d1d16d",
   "metadata": {},
   "outputs": [],
   "source": []
  }
 ],
 "metadata": {
  "kernelspec": {
   "display_name": "Python 3 (ipykernel)",
   "language": "python",
   "name": "python3"
  },
  "language_info": {
   "codemirror_mode": {
    "name": "ipython",
    "version": 3
   },
   "file_extension": ".py",
   "mimetype": "text/x-python",
   "name": "python",
   "nbconvert_exporter": "python",
   "pygments_lexer": "ipython3",
   "version": "3.7.11"
  }
 },
 "nbformat": 4,
 "nbformat_minor": 5
}
