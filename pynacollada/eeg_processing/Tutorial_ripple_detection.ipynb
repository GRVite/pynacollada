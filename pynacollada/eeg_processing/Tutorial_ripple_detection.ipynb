{
 "cells": [
  {
   "cell_type": "markdown",
   "id": "da5e4481",
   "metadata": {},
   "source": [
    "# Ripple detection in hippocampus\n",
    "\n",
    "This tutorial shows how to do ripple detection using pynapple and the pynacollada library.\n",
    "\n",
    "See the [documentation](https://peyrachelab.github.io/pynapple/) of pynapple to see how to install the package. \n",
    "\n",
    "The example data can be found [here](https://www.dropbox.com/s/1kc0ulz7yudd9ru/A2929-200711.tar.gz?dl=1)\n",
    "\n"
   ]
  },
  {
   "cell_type": "code",
   "execution_count": null,
   "id": "6db4f973",
   "metadata": {},
   "outputs": [],
   "source": [
    "import numpy as np\n",
    "import pynapple as nap"
   ]
  }
 ],
 "metadata": {
  "kernelspec": {
   "display_name": "Python 3 (ipykernel)",
   "language": "python",
   "name": "python3"
  },
  "language_info": {
   "codemirror_mode": {
    "name": "ipython",
    "version": 3
   },
   "file_extension": ".py",
   "mimetype": "text/x-python",
   "name": "python",
   "nbconvert_exporter": "python",
   "pygments_lexer": "ipython3",
   "version": "3.8.12"
  }
 },
 "nbformat": 4,
 "nbformat_minor": 5
}
